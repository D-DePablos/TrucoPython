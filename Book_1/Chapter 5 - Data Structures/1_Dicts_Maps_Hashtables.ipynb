{
 "metadata": {
  "language_info": {
   "codemirror_mode": {
    "name": "ipython",
    "version": 3
   },
   "file_extension": ".py",
   "mimetype": "text/x-python",
   "name": "python",
   "nbconvert_exporter": "python",
   "pygments_lexer": "ipython3",
   "version": "3.8.5-final"
  },
  "orig_nbformat": 2,
  "kernelspec": {
   "name": "Python 3.8.5 64-bit ('base': conda)",
   "display_name": "Python 3.8.5 64-bit ('base': conda)",
   "metadata": {
    "interpreter": {
     "hash": "bd4e68c0494625809f38bf0fbed8c12ed12a2e009fdc9dcdcfa048d00ef5e24a"
    }
   }
  }
 },
 "nbformat": 4,
 "nbformat_minor": 2,
 "cells": [
  {
   "source": [
    "# Dictionaries\n",
    "\n",
    "- Central data structure\n",
    "- Can store an arbitary number of objects\n",
    "- Each object identified with a unique _key_\n",
    "\n",
    "## Other names\n",
    "- maps\n",
    "- hashmaps\n",
    "- lookup tables\n",
    "- associative arrays\n",
    "\n",
    "## Purpose\n",
    "- lookup\n",
    "- insertion\n",
    "- deletion\n",
    "\n",
    "Of any object associated with a given key\n",
    "\n",
    "### Example\n",
    "\n",
    "Phone books (1 Name, 1 Phone number)"
   ],
   "cell_type": "markdown",
   "metadata": {}
  },
  {
   "cell_type": "code",
   "execution_count": 1,
   "metadata": {},
   "outputs": [
    {
     "output_type": "stream",
     "name": "stdout",
     "text": [
      "3719\n{0: 0, 1: 1, 2: 4, 3: 9, 4: 16, 5: 25}\n"
     ]
    }
   ],
   "source": [
    "# dict - Your go-to dictionary\n",
    "phonebook = {\n",
    "    \"bob\": 7387,\n",
    "    \"alice\": 3719,\n",
    "}\n",
    "\n",
    "print(phonebook[\"alice\"])\n",
    "\n",
    "squares = {x: x*x for x in range(6)}\n",
    "print(squares)"
   ]
  },
  {
   "source": [
    "Dictionary keys must be of a hashable type (strings, numbers)\n",
    "\n",
    "Notably, class attributes and variables in a stack frame are stored internally in dictionaries\n",
    "\n",
    "Python dicts have O(1) time complexity for lookup, insert, update and delete operations in the average case.\n",
    "\n",
    "_Other implementations exist within Python_, e.g., [Skip lists and B-tree based dictionaries]\n",
    "\n",
    "### Specialized Dictionary types following up!"
   ],
   "cell_type": "markdown",
   "metadata": {}
  },
  {
   "source": [
    "### collections.OrderedDict -> Remembers insertion order of Keys"
   ],
   "cell_type": "markdown",
   "metadata": {}
  },
  {
   "cell_type": "code",
   "execution_count": 7,
   "metadata": {},
   "outputs": [
    {
     "output_type": "stream",
     "name": "stdout",
     "text": [
      "{'one': 1, 'two': 2, 'three': 3}\n{'one': 1, 'two': 2, 'three': 3, 'four': 4}\ndict_keys(['one', 'two', 'three', 'four'])\n------------------------\nOrderedDict([('one', 1), ('two', 2), ('three', 3)])\nOrderedDict([('one', 1), ('two', 2), ('three', 3), ('four', 4)])\nodict_keys(['one', 'two', 'three', 'four'])\n"
     ]
    }
   ],
   "source": [
    "# TODO: How is top behaviour different from bottom?\n",
    "\n",
    "import collections\n",
    "\n",
    "nd = dict(one=1, two=2, three=3)\n",
    "print(nd)\n",
    "\n",
    "nd[\"four\"] = 4\n",
    "print(nd)\n",
    "print(nd.keys())\n",
    "\n",
    "print(\"------------------------\")\n",
    "\n",
    "d = collections.OrderedDict(one=1, two=2, three=3)\n",
    "print(d)\n",
    "\n",
    "d[\"four\"] = 4\n",
    "print(d)\n",
    "print(d.keys())"
   ]
  },
  {
   "source": [
    "### collections.defaultdict -> Return default values for missing keys\n",
    "\n",
    "Accepts callable in its constructor whose return value will be used if a requested key cannot be found"
   ],
   "cell_type": "markdown",
   "metadata": {}
  },
  {
   "cell_type": "code",
   "execution_count": 10,
   "metadata": {},
   "outputs": [
    {
     "output_type": "stream",
     "name": "stdout",
     "text": [
      "['Rufus', 'Kathrin', 'Mr Sniffles']\n"
     ]
    }
   ],
   "source": [
    "from collections import defaultdict\n",
    "\n",
    "dd = defaultdict(list)\n",
    "dd[\"dogs\"].append(\"Rufus\")\n",
    "dd[\"dogs\"].append(\"Kathrin\")\n",
    "dd[\"dogs\"].append(\"Mr Sniffles\")\n",
    "print(dd[\"dogs\"])"
   ]
  },
  {
   "source": [
    "### collections.ChainMap -> Search multiple dictionaries as a single mapping\n",
    "\n",
    "Groups multiple dicts into a single mapping. Lookups search the underlying mappings one by one until a key is found.\n",
    "\n",
    "Inseertions, updates and deletions only affect the first mapping added to the chain"
   ],
   "cell_type": "markdown",
   "metadata": {}
  },
  {
   "cell_type": "code",
   "execution_count": 15,
   "metadata": {},
   "outputs": [
    {
     "output_type": "stream",
     "name": "stdout",
     "text": [
      "ChainMap({'one': 1, 'two': 2, 'three': 5}, {'three': 3, 'four': 4})\n(5, 4)\n"
     ]
    }
   ],
   "source": [
    "from collections import ChainMap\n",
    "\n",
    "dict1 = {\"one\": 1, \"two\": 2, \"three\": 5}\n",
    "dict2 = {\"three\": 3, \"four\": 4}\n",
    "chain = ChainMap(dict1, dict2)\n",
    "\n",
    "print(chain)\n",
    "print((chain[\"three\"], chain[\"four\"]))  # Finds from left to right. If repeated, keeps left value"
   ]
  },
  {
   "source": [
    "### types.MappingProxyType -> A wrapper for read-only dictionaries\n",
    "\n",
    "MappingProxyType is a wrapper around a standard dictionary that provides a read-only view  into the wrapped dictionary's d_ata.\n",
    "\n",
    "_Example use:_ return a dictionary carrying internal state from a class or module, while discouraging write access to this object."
   ],
   "cell_type": "markdown",
   "metadata": {}
  },
  {
   "cell_type": "code",
   "execution_count": 18,
   "metadata": {},
   "outputs": [
    {
     "output_type": "stream",
     "name": "stdout",
     "text": [
      "2\n42\n"
     ]
    }
   ],
   "source": [
    "from types import MappingProxyType\n",
    "\n",
    "writable = {\"one\":2, \"two\": 2}\n",
    "read_only = MappingProxyType(writable)\n",
    "\n",
    "print(read_only[\"one\"])\n",
    "# read_only[\"one\"] = 23  # TypeError: 'mappingproxy' object does not support item assignment\n",
    "\n",
    "writable[\"one\"] = 42\n",
    "print(read_only[\"one\"])"
   ]
  },
  {
   "source": [
    "# Takeaways\n",
    "\n",
    "- Use the default dict unless a specific implementation happens to be better for that use case. Standard dictionaries are more well known\n",
    "\n",
    "- Central data structure\n",
    "- Built in dict is respectable most of the time\n",
    "- Read only or ordered dicts are available in the Python standard library"
   ],
   "cell_type": "markdown",
   "metadata": {}
  }
 ]
}