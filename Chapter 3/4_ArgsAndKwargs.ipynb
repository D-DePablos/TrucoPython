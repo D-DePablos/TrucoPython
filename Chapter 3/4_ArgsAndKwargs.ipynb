{
 "metadata": {
  "language_info": {
   "codemirror_mode": {
    "name": "ipython",
    "version": 3
   },
   "file_extension": ".py",
   "mimetype": "text/x-python",
   "name": "python",
   "nbconvert_exporter": "python",
   "pygments_lexer": "ipython3",
   "version": "3.7.6-final"
  },
  "orig_nbformat": 2,
  "kernelspec": {
   "name": "python_defaultSpec_1599597618181",
   "display_name": "Python 3.7.6 64-bit ('base': conda)"
  }
 },
 "nbformat": 4,
 "nbformat_minor": 2,
 "cells": [
  {
   "cell_type": "markdown",
   "metadata": {},
   "source": [
    "# Args and Kwargs are positional and Keyword arguments"
   ]
  },
  {
   "cell_type": "code",
   "execution_count": 4,
   "metadata": {
    "tags": []
   },
   "outputs": [
    {
     "output_type": "stream",
     "name": "stdout",
     "text": "yo\n('what',)\n{'are': 'are'}\n"
    }
   ],
   "source": [
    "def foo(required, *args, **kwargs):\n",
    "    print(required)\n",
    "\n",
    "    if args:\n",
    "        print(args)\n",
    "    if kwargs:\n",
    "        print(kwargs)\n",
    "\n",
    "foo('yo', 'what', are=\"are\")"
   ]
  },
  {
   "cell_type": "markdown",
   "metadata": {},
   "source": [
    "### Forwarding optional and keyword arguments"
   ]
  },
  {
   "cell_type": "code",
   "execution_count": 5,
   "metadata": {},
   "outputs": [],
   "source": [
    "def foo(x, *args, **kwargs):\n",
    "    \"\"\"\n",
    "    This function forwards some parameters to another function performing extra changes\n",
    "    \"\"\"\n",
    "    kwargs['name'] = \"Alice\"\n",
    "\n",
    "    new_args = args + (\"extra\", )\n",
    "\n",
    "    bar(x, *new_args, **kwargs)"
   ]
  },
  {
   "cell_type": "markdown",
   "metadata": {},
   "source": [
    "### Actual usecase"
   ]
  },
  {
   "cell_type": "code",
   "execution_count": 6,
   "metadata": {},
   "outputs": [
    {
     "output_type": "execute_result",
     "data": {
      "text/plain": "'blue'"
     },
     "metadata": {},
     "execution_count": 6
    }
   ],
   "source": [
    "class Car:\n",
    "    def __init__(self, color, mileage):\n",
    "        self.color = color\n",
    "        self.mileage = mileage\n",
    "\n",
    "class AlwaysBlueCar(Car):\n",
    "    def __init__(self, *args, **kwargs):\n",
    "        super().__init__(*args, **kwargs)\n",
    "        self.color = \"blue\"\n",
    "\n",
    "AlwaysBlueCar(\"green\", 121334).color"
   ]
  },
  {
   "cell_type": "markdown",
   "metadata": {},
   "source": [
    "### Applied to decorators, args and kwargs are powerful"
   ]
  },
  {
   "cell_type": "code",
   "execution_count": 7,
   "metadata": {
    "tags": []
   },
   "outputs": [
    {
     "output_type": "stream",
     "name": "stdout",
     "text": "<function greet at 0x7f7a88536d40> ('Hello', 'Bob') {}\nHello, Bob!\n"
    }
   ],
   "source": [
    "import functools\n",
    "\n",
    "def trace(f):\n",
    "    @functools.wraps(f)\n",
    "    def decorated_f(*args, **kwargs):\n",
    "        print(f, args, kwargs)\n",
    "        result = f(*args, **kwargs)\n",
    "        print(result)\n",
    "    return decorated_f\n",
    "\n",
    "@trace \n",
    "def greet(greeting, name):\n",
    "    return f\"{greeting}, {name}!\"\n",
    "\n",
    "greet(\"Hello\", \"Bob\")"
   ]
  },
  {
   "cell_type": "markdown",
   "metadata": {},
   "source": [
    "### Takeaways\n",
    "\n",
    "- args collects arguments as a tuple\n",
    "- kwargs collects arguments as a dictionary\n",
    "- ACTUAL SYNTAX IS * AND **"
   ]
  },
  {
   "cell_type": "markdown",
   "metadata": {},
   "source": [
    "### Bonus"
   ]
  },
  {
   "cell_type": "code",
   "execution_count": 2,
   "metadata": {
    "tags": []
   },
   "outputs": [
    {
     "output_type": "stream",
     "name": "stdout",
     "text": "<2, 3, 2>\n<2, 4, 5>\n"
    }
   ],
   "source": [
    "# Object unpacking\n",
    "\n",
    "def print_vector(x,y,z):\n",
    "    print(f\"<{x}, {y}, {z}>\")\n",
    "\n",
    "print_vector(2,3,2)\n",
    "\n",
    "vector = (2,4,5)\n",
    "\n",
    "print_vector(*vector)\n",
    "\n",
    "# For dictionaries, use **. The function call will use values with the specific key"
   ]
  },
  {
   "cell_type": "code",
   "execution_count": 3,
   "metadata": {
    "tags": []
   },
   "outputs": [
    {
     "output_type": "stream",
     "name": "stdout",
     "text": "<x, y, z>\n"
    }
   ],
   "source": [
    "vector = {'x':'x', 'y': 'y'}\n",
    "\n",
    "print_vector(**vector, z='z')"
   ]
  }
 ]
}