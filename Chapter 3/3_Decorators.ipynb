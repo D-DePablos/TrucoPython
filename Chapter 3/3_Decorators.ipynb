{
 "cells": [
  {
   "cell_type": "markdown",
   "metadata": {},
   "source": [
    "# Decorators\n",
    "\n",
    "They allow to extend and modify the behaviour of any callable (Functions, methods, classes) _without_ permanently modifying the callable itself\n",
    "\n",
    "- Logging\n",
    "- Access control / Authentication\n",
    "- Instrumentation / Timing functions\n",
    "- Rate-limitations\n",
    "- Cache"
   ]
  },
  {
   "cell_type": "markdown",
   "metadata": {},
   "source": [
    "## First class Function takeaways for Decorators:\n",
    "\n",
    "+ Functions == Objects -> Can be assigned to variables, passed, returned from other functions\n",
    "+ Functions can live inside other functions -> Child functions even know about variables within parent"
   ]
  },
  {
   "cell_type": "markdown",
   "metadata": {},
   "source": [
    "## Decorator Basics\n",
    "\n",
    "They decorate / wrap another function, to execute code before / after the wrapped function runs.\n",
    "\n",
    "They allow the creation of reusable building blocks that can change or extend behaviour of other functions. Behaviour only changes when decorated.\n",
    "\n",
    "Callable that takes callable as input and returns callable\n",
    "\n",
    "greet = null_decorator(greet)  === @null_decorator // def greet() [...]"
   ]
  },
  {
   "cell_type": "code",
   "execution_count": 1,
   "metadata": {},
   "outputs": [
    {
     "output_type": "execute_result",
     "data": {
      "text/plain": "'Hello!'"
     },
     "metadata": {},
     "execution_count": 1
    }
   ],
   "source": [
    "def null_decorator(func):\n",
    "    return func\n",
    "\n",
    "@null_decorator\n",
    "def greet():\n",
    "    return \"Hello!\"\n",
    "\n",
    "greet()"
   ]
  },
  {
   "cell_type": "markdown",
   "metadata": {},
   "source": [
    "### Decorators can modify behaviour\n",
    "\n",
    "Converts result of decorated functions to all uppercase:"
   ]
  },
  {
   "cell_type": "code",
   "execution_count": 2,
   "metadata": {},
   "outputs": [
    {
     "output_type": "execute_result",
     "data": {
      "text/plain": "'HELLO!'"
     },
     "metadata": {},
     "execution_count": 2
    }
   ],
   "source": [
    "def uppercase(func):\n",
    "    \n",
    "    # By using a wrapper, behaviour is modified at call time, not declaration time\n",
    "    def wrapper():    \n",
    "        original_result = func()\n",
    "        modified_result = original_result.upper()\n",
    "        \n",
    "        return modified_result\n",
    "    \n",
    "    # We must return a new function \"Callable object\"\n",
    "    return wrapper\n",
    "\n",
    "@uppercase\n",
    "def greet():\n",
    "    return \"Hello!\"\n",
    "\n",
    "greet()"
   ]
  },
  {
   "cell_type": "markdown",
   "metadata": {},
   "source": [
    "### Using Multiple decorators"
   ]
  },
  {
   "cell_type": "code",
   "execution_count": 5,
   "metadata": {},
   "outputs": [
    {
     "output_type": "execute_result",
     "data": {
      "text/plain": "'<strong><em>Hello</em></strong>'"
     },
     "metadata": {},
     "execution_count": 5
    }
   ],
   "source": [
    "def strong(func):\n",
    "    def wrapper():\n",
    "        return f\"<strong>{func()}</strong>\"\n",
    "    \n",
    "    return wrapper\n",
    "\n",
    "def emphasis(func):\n",
    "    def wrapper():\n",
    "        return f\"<em>{func()}</em>\"\n",
    "    \n",
    "    return wrapper\n",
    "\n",
    "@strong\n",
    "@emphasis\n",
    "def greet():\n",
    "    return \"Hello\"\n",
    "\n",
    "# Decorators applied from bottom to top!\n",
    "greet()"
   ]
  },
  {
   "cell_type": "markdown",
   "metadata": {},
   "source": [
    "### Decorators that take functions that use arguments"
   ]
  },
  {
   "cell_type": "code",
   "execution_count": null,
   "metadata": {},
   "outputs": [],
   "source": [
    "def proxy(func):\n",
    "    # Make use of * and ** operators within wrapper enclosure to collect all positional and\n",
    "    # keyword arguments.\n",
    "    def wrapper(*args, **kwargs):\n",
    "        return(func(*args, **kwargs))\n",
    "    \n",
    "    # Wrapper closure then forwards arguments to original function\n",
    "    return wrapper\n"
   ]
  },
  {
   "cell_type": "markdown",
   "metadata": {},
   "source": [
    "#### Example of a trace decorator that logs all variables"
   ]
  },
  {
   "cell_type": "code",
   "execution_count": 11,
   "metadata": {
    "tags": []
   },
   "outputs": [
    {
     "output_type": "stream",
     "name": "stdout",
     "text": "Trace: calling addition() with (), {'x': 2, 'y': 3}\nTRACE): addition() returned 5\n"
    },
    {
     "output_type": "execute_result",
     "data": {
      "text/plain": "5"
     },
     "metadata": {},
     "execution_count": 11
    }
   ],
   "source": [
    "def trace(func):\n",
    "    def wrapper(*args, **kwargs):\n",
    "        print(f\"Trace: calling {func.__name__}() \"\n",
    "        f\"with {args}, {kwargs}\")\n",
    "\n",
    "        original_result = func(*args, **kwargs)\n",
    "\n",
    "        print(f\"TRACE): {func.__name__}() \"\n",
    "                f\"returned {original_result!r}\")\n",
    "\n",
    "        return original_result\n",
    "\n",
    "    return wrapper\n",
    "\n",
    "@trace \n",
    "def addition(x, y):\n",
    "    return(x + y)\n",
    "\n",
    "addition(x=2,y=3)"
   ]
  },
  {
   "cell_type": "markdown",
   "metadata": {},
   "source": [
    "### Writing debuggable decorators\n",
    "\n",
    "Since you are replacing a function with another, metadata from the original, undecorated function is hidden. You will find the original function, its name, and parameter list are hidden by the wrapper.\n",
    "\n",
    "Use functools.wraps decorator to inherit all relevant info!"
   ]
  },
  {
   "cell_type": "code",
   "execution_count": 22,
   "metadata": {},
   "outputs": [
    {
     "output_type": "execute_result",
     "data": {
      "text/plain": "'Returns friendly greeting'"
     },
     "metadata": {},
     "execution_count": 22
    }
   ],
   "source": [
    "import functools\n",
    "\n",
    "def uppercase(func):\n",
    "\n",
    "    @functools.wraps(func)\n",
    "    def wrapper():\n",
    "        return func().upper()\n",
    "    return wrapper\n",
    "\n",
    "@uppercase\n",
    "def greet():\n",
    "    \"Returns friendly greeting\"\n",
    "    return \"Hello!\"\n",
    "\n",
    "greet.__doc__"
   ]
  },
  {
   "cell_type": "markdown",
   "metadata": {},
   "source": [
    "### Key takeaways\n",
    "\n",
    "- Decorators = Reusable building blocks that you apply to a callable to modify behaviour without modifying the callable itself\n",
    "- The @syntax is shorthand for calling the decorator on a function\n",
    "- USE functools.wraps to inherit name etc!\n",
    "- Get stuff done well..."
   ]
  }
 ],
 "metadata": {
  "kernelspec": {
   "display_name": "Python 3",
   "language": "python",
   "name": "python3"
  },
  "language_info": {
   "codemirror_mode": {
    "name": "ipython",
    "version": 3
   },
   "file_extension": ".py",
   "mimetype": "text/x-python",
   "name": "python",
   "nbconvert_exporter": "python",
   "pygments_lexer": "ipython3",
   "version": "3.7.6-final"
  }
 },
 "nbformat": 4,
 "nbformat_minor": 4
}