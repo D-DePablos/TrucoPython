{
 "metadata": {
  "language_info": {
   "codemirror_mode": {
    "name": "ipython",
    "version": 3
   },
   "file_extension": ".py",
   "mimetype": "text/x-python",
   "name": "python",
   "nbconvert_exporter": "python",
   "pygments_lexer": "ipython3",
   "version": "3.8.5-final"
  },
  "orig_nbformat": 2,
  "kernelspec": {
   "name": "python3",
   "display_name": "Python 3"
  }
 },
 "nbformat": 4,
 "nbformat_minor": 2,
 "cells": [
  {
   "cell_type": "code",
   "execution_count": 6,
   "metadata": {},
   "outputs": [
    {
     "output_type": "stream",
     "name": "stdout",
     "text": [
      "['bob', 'julian', 'patatito']\n"
     ]
    }
   ],
   "source": [
    "# Split a string into a list\n",
    "names = \"bob julian patatito\".split()\n",
    "print(names)"
   ]
  },
  {
   "cell_type": "code",
   "execution_count": 5,
   "metadata": {},
   "outputs": [
    {
     "output_type": "stream",
     "name": "stdout",
     "text": [
      "{'bob': '1', 'julian': '34', 'patatito': '4'}\n"
     ]
    }
   ],
   "source": [
    "# Make a dictionary with zip\n",
    "names = \"bob julian patatito\".split()\n",
    "ages = \"1 34 4\".split()\n",
    "\n",
    "ages = dict(zip(names, ages))  # Interesting!\n",
    "print(ages)"
   ]
  },
  {
   "cell_type": "code",
   "execution_count": 11,
   "metadata": {},
   "outputs": [
    {
     "output_type": "execute_result",
     "data": {
      "text/plain": [
       "[('julian', 13), ('bob', 23), ('patata', 43)]"
      ]
     },
     "metadata": {},
     "execution_count": 11
    }
   ],
   "source": [
    "ages = {\n",
    "    \"bob\": 23,\n",
    "    \"patata\": 43,\n",
    "    \"julian\": 13,\n",
    "}\n",
    "\n",
    "sorted(ages.items(), key= lambda x: x[1])"
   ]
  },
  {
   "cell_type": "code",
   "execution_count": 13,
   "metadata": {},
   "outputs": [
    {
     "output_type": "execute_result",
     "data": {
      "text/plain": [
       "[1, 2, 3, 4, 5, 6, 7, 8, 9]"
      ]
     },
     "metadata": {},
     "execution_count": 13
    }
   ],
   "source": [
    "# Flatten a list of lists\n",
    "\n",
    "list_of_lists = [[1,2], [3], [4,5,6], [7], [8, 9]]\n",
    "sum(list_of_lists, [])"
   ]
  },
  {
   "cell_type": "code",
   "execution_count": 15,
   "metadata": {},
   "outputs": [
    {
     "output_type": "execute_result",
     "data": {
      "text/plain": [
       "['as', 'pararo']"
      ]
     },
     "metadata": {},
     "execution_count": 15
    }
   ],
   "source": [
    "# Get a random sample\n",
    "names = \"bob pararo as fd ggfd gfg\".split()\n",
    "from random import sample \n",
    "\n",
    "sample(names, 2)"
   ]
  },
  {
   "cell_type": "code",
   "execution_count": 16,
   "metadata": {},
   "outputs": [
    {
     "output_type": "execute_result",
     "data": {
      "text/plain": [
       "Counter({'Python': 2, 'Java': 1, 'Perl': 1, 'C++': 1})"
      ]
     },
     "metadata": {},
     "execution_count": 16
    }
   ],
   "source": [
    "# Collections.Counter \n",
    "from collections import Counter\n",
    "languages = \"Python Java Perl Python C++\".split()\n",
    "Counter(languages)  # Returns a count of how many time each element present"
   ]
  },
  {
   "cell_type": "code",
   "execution_count": 20,
   "metadata": {},
   "outputs": [
    {
     "output_type": "stream",
     "name": "stdout",
     "text": [
      "I was happy with the book Sentiment(polarity=0.8, subjectivity=1.0)\n I am never lucky Sentiment(polarity=-0.16666666666666666, subjectivity=0.8333333333333334)\n"
     ]
    }
   ],
   "source": [
    "# Get a tweets sentiment on the deault library!\n",
    "\n",
    "from textblob import TextBlob\n",
    "\n",
    "tweets = (\"I was happy with the book\", \" I am never lucky\")\n",
    "\n",
    "for tw in tweets:\n",
    "    print(tw, TextBlob(tw).sentiment)"
   ]
  }
 ]
}