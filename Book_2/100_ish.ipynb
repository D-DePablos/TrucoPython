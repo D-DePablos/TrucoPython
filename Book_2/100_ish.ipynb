{
 "metadata": {
  "language_info": {
   "codemirror_mode": {
    "name": "ipython",
    "version": 3
   },
   "file_extension": ".py",
   "mimetype": "text/x-python",
   "name": "python",
   "nbconvert_exporter": "python",
   "pygments_lexer": "ipython3",
   "version": "3.8.5-final"
  },
  "orig_nbformat": 2,
  "kernelspec": {
   "name": "python3",
   "display_name": "Python 3",
   "language": "python"
  }
 },
 "nbformat": 4,
 "nbformat_minor": 2,
 "cells": [
  {
   "cell_type": "code",
   "execution_count": 6,
   "metadata": {},
   "outputs": [
    {
     "output_type": "stream",
     "name": "stdout",
     "text": [
      "['bob', 'julian', 'patatito']\n"
     ]
    }
   ],
   "source": [
    "# Split a string into a list\n",
    "names = \"bob julian patatito\".split()\n",
    "print(names)"
   ]
  },
  {
   "cell_type": "code",
   "execution_count": 5,
   "metadata": {},
   "outputs": [
    {
     "output_type": "stream",
     "name": "stdout",
     "text": [
      "{'bob': '1', 'julian': '34', 'patatito': '4'}\n"
     ]
    }
   ],
   "source": [
    "# Make a dictionary with zip\n",
    "names = \"bob julian patatito\".split()\n",
    "ages = \"1 34 4\".split()\n",
    "\n",
    "ages = dict(zip(names, ages))  # Interesting!\n",
    "print(ages)"
   ]
  },
  {
   "cell_type": "code",
   "execution_count": 11,
   "metadata": {},
   "outputs": [
    {
     "output_type": "execute_result",
     "data": {
      "text/plain": [
       "[('julian', 13), ('bob', 23), ('patata', 43)]"
      ]
     },
     "metadata": {},
     "execution_count": 11
    }
   ],
   "source": [
    "ages = {\n",
    "    \"bob\": 23,\n",
    "    \"patata\": 43,\n",
    "    \"julian\": 13,\n",
    "}\n",
    "\n",
    "sorted(ages.items(), key= lambda x: x[1])"
   ]
  },
  {
   "cell_type": "code",
   "execution_count": 13,
   "metadata": {},
   "outputs": [
    {
     "output_type": "execute_result",
     "data": {
      "text/plain": [
       "[1, 2, 3, 4, 5, 6, 7, 8, 9]"
      ]
     },
     "metadata": {},
     "execution_count": 13
    }
   ],
   "source": [
    "# Flatten a list of lists\n",
    "\n",
    "list_of_lists = [[1,2], [3], [4,5,6], [7], [8, 9]]\n",
    "sum(list_of_lists, [])"
   ]
  },
  {
   "cell_type": "code",
   "execution_count": 15,
   "metadata": {},
   "outputs": [
    {
     "output_type": "execute_result",
     "data": {
      "text/plain": [
       "['as', 'pararo']"
      ]
     },
     "metadata": {},
     "execution_count": 15
    }
   ],
   "source": [
    "# Get a random sample\n",
    "names = \"bob pararo as fd ggfd gfg\".split()\n",
    "from random import sample \n",
    "\n",
    "sample(names, 2)"
   ]
  },
  {
   "cell_type": "code",
   "execution_count": 16,
   "metadata": {},
   "outputs": [
    {
     "output_type": "execute_result",
     "data": {
      "text/plain": [
       "Counter({'Python': 2, 'Java': 1, 'Perl': 1, 'C++': 1})"
      ]
     },
     "metadata": {},
     "execution_count": 16
    }
   ],
   "source": [
    "# Collections.Counter \n",
    "from collections import Counter\n",
    "languages = \"Python Java Perl Python C++\".split()\n",
    "Counter(languages)  # Returns a count of how many time each element present"
   ]
  },
  {
   "cell_type": "code",
   "execution_count": 20,
   "metadata": {},
   "outputs": [
    {
     "output_type": "stream",
     "name": "stdout",
     "text": [
      "I was happy with the book Sentiment(polarity=0.8, subjectivity=1.0)\n I am never lucky Sentiment(polarity=-0.16666666666666666, subjectivity=0.8333333333333334)\n"
     ]
    }
   ],
   "source": [
    "# Get a tweets sentiment on the deault library!\n",
    "\n",
    "from textblob import TextBlob\n",
    "\n",
    "tweets = (\"I was happy with the book\", \" I am never lucky\")\n",
    "\n",
    "for tw in tweets:\n",
    "    print(tw, TextBlob(tw).sentiment)"
   ]
  },
  {
   "cell_type": "code",
   "execution_count": 3,
   "metadata": {},
   "outputs": [
    {
     "output_type": "execute_result",
     "data": {
      "text/plain": [
       "{'C++', 'JS', 'Java', 'PHP', 'Perl', 'Python', 'Ruby'}"
      ]
     },
     "metadata": {},
     "execution_count": 3
    }
   ],
   "source": [
    "# Deduplicate values using a set\n",
    "languages = \"Python Java Perl PHP Python JS C++ Python Ruby\".split()\n",
    "set(languages)"
   ]
  },
  {
   "cell_type": "code",
   "execution_count": 4,
   "metadata": {},
   "outputs": [
    {
     "output_type": "execute_result",
     "data": {
      "text/plain": [
       "['Python', 'Perl', 'PHP', 'Python', 'Python']"
      ]
     },
     "metadata": {},
     "execution_count": 4
    }
   ],
   "source": [
    "# Filtering values with list Comprehension\n",
    "languages = \"Python Java Perl PHP Python JS C++ Python Ruby\".split()\n",
    "[l for l in languages if l.lower().startswith(\"p\")]"
   ]
  },
  {
   "cell_type": "code",
   "execution_count": 12,
   "metadata": {},
   "outputs": [
    {
     "output_type": "stream",
     "name": "stdout",
     "text": [
      "True\nFalse\n"
     ]
    }
   ],
   "source": [
    "# The Any and All builtins\n",
    "\n",
    "languages = \"Python Java Perl PHP Python JS C++ Python Ruby\".split()\n",
    "print(all(len(l) >= 2 for l in languages))\n",
    "print(any(\"=+\" in l for l in languages))"
   ]
  },
  {
   "cell_type": "code",
   "execution_count": 14,
   "metadata": {},
   "outputs": [
    {
     "output_type": "stream",
     "name": "stdout",
     "text": [
      "001\n002\n003\n004\n005\n"
     ]
    }
   ],
   "source": [
    "# Zfill give a number leading zeroes\n",
    "\n",
    "for i in range(1,6):\n",
    "    print(str(i).zfill(3))"
   ]
  },
  {
   "cell_type": "code",
   "execution_count": 23,
   "metadata": {},
   "outputs": [
    {
     "output_type": "stream",
     "name": "stdout",
     "text": [
      "7a168908-72d7-471a-87ab-a9318624cfa7\n557dfe6c-63b0-4792-9561-8365f71b5bde\n"
     ]
    }
   ],
   "source": [
    "# Get a unique ID\n",
    "from uuid import uuid4\n",
    "\n",
    "# Creates a random\n",
    "print(uuid4())\n",
    "print(uuid4())"
   ]
  },
  {
   "cell_type": "code",
   "execution_count": 27,
   "metadata": {},
   "outputs": [
    {
     "output_type": "stream",
     "name": "stdout",
     "text": [
      "I was happy with the book XRPTHESTANDARD\nthis is awful\n"
     ]
    },
    {
     "output_type": "execute_result",
     "data": {
      "text/plain": [
       "'100-pybites-tips-4-you'"
      ]
     },
     "metadata": {},
     "execution_count": 27
    }
   ],
   "source": [
    "# Join Strings Effectively\n",
    "\n",
    "tweets = (\"I was happy with the book\", \"this is awful\")\n",
    "print(\" XRPTHESTANDARD\\n\".join(tweets))\n",
    "\n",
    "\"-\".join(str(w) for w in \"100 pybites tips 4 you\".split())"
   ]
  },
  {
   "cell_type": "code",
   "execution_count": 28,
   "metadata": {},
   "outputs": [
    {
     "output_type": "stream",
     "name": "stdout",
     "text": [
      "   December 2020\nMo Tu We Th Fr Sa Su\n    1  2  3  4  5  6\n 7  8  9 10 11 12 13\n14 15 16 17 18 19 20\n21 22 23 24 25 26 27\n28 29 30 31\n\n"
     ]
    }
   ],
   "source": [
    "# Calendars\n",
    "\n",
    "import calendar\n",
    "\n",
    "print(calendar.month(2020,12))"
   ]
  },
  {
   "cell_type": "code",
   "execution_count": 31,
   "metadata": {},
   "outputs": [
    {
     "output_type": "stream",
     "name": "stdout",
     "text": [
      "<class 'str'>\n(<class 'str'>, <class 'object'>)\n"
     ]
    },
    {
     "output_type": "execute_result",
     "data": {
      "text/plain": [
       "['__add__',\n",
       " '__class__',\n",
       " '__contains__',\n",
       " '__delattr__',\n",
       " '__dir__',\n",
       " '__doc__',\n",
       " '__eq__',\n",
       " '__format__',\n",
       " '__ge__',\n",
       " '__getattribute__',\n",
       " '__getitem__',\n",
       " '__getnewargs__',\n",
       " '__gt__',\n",
       " '__hash__',\n",
       " '__init__',\n",
       " '__init_subclass__',\n",
       " '__iter__',\n",
       " '__le__',\n",
       " '__len__',\n",
       " '__lt__',\n",
       " '__mod__',\n",
       " '__mul__',\n",
       " '__ne__',\n",
       " '__new__',\n",
       " '__reduce__',\n",
       " '__reduce_ex__',\n",
       " '__repr__',\n",
       " '__rmod__',\n",
       " '__rmul__',\n",
       " '__setattr__',\n",
       " '__sizeof__',\n",
       " '__str__',\n",
       " '__subclasshook__',\n",
       " 'capitalize',\n",
       " 'casefold',\n",
       " 'center',\n",
       " 'count',\n",
       " 'encode',\n",
       " 'endswith',\n",
       " 'expandtabs',\n",
       " 'find',\n",
       " 'format',\n",
       " 'format_map',\n",
       " 'index',\n",
       " 'isalnum',\n",
       " 'isalpha',\n",
       " 'isascii',\n",
       " 'isdecimal',\n",
       " 'isdigit',\n",
       " 'isidentifier',\n",
       " 'islower',\n",
       " 'isnumeric',\n",
       " 'isprintable',\n",
       " 'isspace',\n",
       " 'istitle',\n",
       " 'isupper',\n",
       " 'join',\n",
       " 'ljust',\n",
       " 'lower',\n",
       " 'lstrip',\n",
       " 'maketrans',\n",
       " 'partition',\n",
       " 'replace',\n",
       " 'rfind',\n",
       " 'rindex',\n",
       " 'rjust',\n",
       " 'rpartition',\n",
       " 'rsplit',\n",
       " 'rstrip',\n",
       " 'split',\n",
       " 'splitlines',\n",
       " 'startswith',\n",
       " 'strip',\n",
       " 'swapcase',\n",
       " 'title',\n",
       " 'translate',\n",
       " 'upper',\n",
       " 'zfill']"
      ]
     },
     "metadata": {},
     "execution_count": 31
    }
   ],
   "source": [
    "# Dir and help\n",
    "\n",
    "a = \"hello\"\n",
    "print(type(a))\n",
    "print(type(a).__mro__)  # Object inheritance information\n",
    "\n",
    "dir(a)  # All of the subclasses within the object"
   ]
  },
  {
   "cell_type": "code",
   "execution_count": 42,
   "metadata": {},
   "outputs": [
    {
     "output_type": "stream",
     "name": "stdout",
     "text": [
      "Sample of combinations: [(1, 1), (1, 2), (1, 3), (1, 4), (1, 5)]\n(4, 5)\n(5, 4)\n(2, 1)\n"
     ]
    },
    {
     "output_type": "execute_result",
     "data": {
      "text/plain": [
       "[(5, 1), (2, 3), (6, 3), (4, 5), (5, 3)]"
      ]
     },
     "metadata": {},
     "execution_count": 42
    }
   ],
   "source": [
    "# Simulate dice rolls\n",
    "\n",
    "import random\n",
    "import itertools\n",
    "\n",
    "dice = range(1,7)\n",
    "\n",
    "combinations = list(itertools.product(dice, repeat=2))\n",
    "print(f\"Sample of combinations: {combinations[:5]}\")\n",
    "\n",
    "for _ in range(3):\n",
    "    print(random.choice(combinations))\n",
    "\n",
    "random.sample(combinations, 5)"
   ]
  },
  {
   "cell_type": "code",
   "execution_count": 44,
   "metadata": {},
   "outputs": [
    {
     "output_type": "stream",
     "name": "stdout",
     "text": [
      "Red\nGreen\nAmber\nRed\nGreen\n"
     ]
    }
   ],
   "source": [
    "# Loop through a sequence ad infinitum\n",
    "\n",
    "import itertools\n",
    "lights = itertools.cycle(\"Red Green Amber\".split())\n",
    "for _ in range(5):\n",
    "    print(next(lights))"
   ]
  },
  {
   "cell_type": "code",
   "execution_count": 48,
   "metadata": {},
   "outputs": [
    {
     "output_type": "stream",
     "name": "stdout",
     "text": [
      "[('bob', 'tim', 'julian'), ('bob', 'tim', 'fred'), ('bob', 'julian', 'fred'), ('tim', 'julian', 'fred')]\n++++++++++++\n[('bob', 'tim', 'julian'), ('bob', 'tim', 'fred'), ('bob', 'julian', 'tim'), ('bob', 'julian', 'fred'), ('bob', 'fred', 'tim'), ('bob', 'fred', 'julian'), ('tim', 'bob', 'julian'), ('tim', 'bob', 'fred'), ('tim', 'julian', 'bob'), ('tim', 'julian', 'fred'), ('tim', 'fred', 'bob'), ('tim', 'fred', 'julian'), ('julian', 'bob', 'tim'), ('julian', 'bob', 'fred'), ('julian', 'tim', 'bob'), ('julian', 'tim', 'fred'), ('julian', 'fred', 'bob'), ('julian', 'fred', 'tim'), ('fred', 'bob', 'tim'), ('fred', 'bob', 'julian'), ('fred', 'tim', 'bob'), ('fred', 'tim', 'julian'), ('fred', 'julian', 'bob'), ('fred', 'julian', 'tim')]\n"
     ]
    }
   ],
   "source": [
    "# 30. Pairing Friends up\n",
    "\n",
    "import itertools\n",
    "\n",
    "friends = \"bob tim julian fred\".split()\n",
    "\n",
    "print(list(itertools.combinations(friends, 3)))\n",
    "print(\"++++++++++++\")\n",
    "print(list(itertools.permutations(friends, 3)))"
   ]
  },
  {
   "cell_type": "code",
   "execution_count": 6,
   "metadata": {},
   "outputs": [
    {
     "output_type": "stream",
     "name": "stdout",
     "text": [
      "{4, 5}\n{8, 6, 7}\n{1, 2, 3}\n{4, 5, 6, 7, 8}\n{'do'}\n"
     ]
    }
   ],
   "source": [
    "# To compare two sequences in Python\n",
    "a = {1,2,3,4,5}\n",
    "b = {1,2,3,6,7,8}\n",
    "\n",
    "print(a - b)\n",
    "print(b - a)\n",
    "print(a & b)\n",
    "print(a ^ b)  # Either one or the other\n",
    "\n",
    "line1 = \"You can do anything but not everything\".split()\n",
    "line2 = \"We are what we repeatedly do\".split()\n",
    "\n",
    "print(set(line1) & set(line2)) # Much faster than looping through lists"
   ]
  },
  {
   "cell_type": "code",
   "execution_count": 14,
   "metadata": {},
   "outputs": [
    {
     "output_type": "execute_result",
     "data": {
      "text/plain": [
       "True"
      ]
     },
     "metadata": {},
     "execution_count": 14
    }
   ],
   "source": [
    "#  The in operator\n",
    "primary_colors = set([\"red\", \"yellow\", \"blue\"])\n",
    "\n",
    "\"red\" in primary_colors"
   ]
  },
  {
   "cell_type": "code",
   "execution_count": 17,
   "metadata": {},
   "outputs": [
    {
     "output_type": "stream",
     "name": "stdout",
     "text": [
      "1,bob,developer,python\n1,bob,developer,python\n"
     ]
    }
   ],
   "source": [
    "# Powerprinting\n",
    "row = \"1 bob developer python\".split()\n",
    "\n",
    "print(\",\".join(str(x) for x in row))\n",
    "print(*row, sep=\",\")"
   ]
  },
  {
   "cell_type": "code",
   "execution_count": 19,
   "metadata": {},
   "outputs": [
    {
     "output_type": "error",
     "ename": "FileExistsError",
     "evalue": "[Errno 17] File exists: 'hello'",
     "traceback": [
      "\u001b[0;31m---------------------------------------------------------------------------\u001b[0m",
      "\u001b[0;31mFileExistsError\u001b[0m                           Traceback (most recent call last)",
      "\u001b[0;32m<ipython-input-19-458f8f413e67>\u001b[0m in \u001b[0;36m<module>\u001b[0;34m\u001b[0m\n\u001b[1;32m      3\u001b[0m     \u001b[0mf\u001b[0m\u001b[0;34m.\u001b[0m\u001b[0mwrite\u001b[0m\u001b[0;34m(\u001b[0m\u001b[0;34m\"hello\"\u001b[0m\u001b[0;34m)\u001b[0m\u001b[0;34m\u001b[0m\u001b[0;34m\u001b[0m\u001b[0m\n\u001b[1;32m      4\u001b[0m \u001b[0;34m\u001b[0m\u001b[0m\n\u001b[0;32m----> 5\u001b[0;31m \u001b[0;32mwith\u001b[0m \u001b[0mopen\u001b[0m\u001b[0;34m(\u001b[0m\u001b[0;34m\"hello\"\u001b[0m\u001b[0;34m,\u001b[0m \u001b[0;34m\"x\"\u001b[0m\u001b[0;34m)\u001b[0m \u001b[0;32mas\u001b[0m \u001b[0mf\u001b[0m\u001b[0;34m:\u001b[0m\u001b[0;34m\u001b[0m\u001b[0;34m\u001b[0m\u001b[0m\n\u001b[0m\u001b[1;32m      6\u001b[0m     \u001b[0mf\u001b[0m\u001b[0;34m.\u001b[0m\u001b[0mwrite\u001b[0m\u001b[0;34m(\u001b[0m\u001b[0;34m\"spam\"\u001b[0m\u001b[0;34m)\u001b[0m\u001b[0;34m\u001b[0m\u001b[0;34m\u001b[0m\u001b[0m\n",
      "\u001b[0;31mFileExistsError\u001b[0m: [Errno 17] File exists: 'hello'"
     ]
    }
   ],
   "source": [
    "# 35. Prevent overwriting files\n",
    "with open(\"hello\", \"w\") as f:\n",
    "    f.write(\"hello\")\n",
    "\n",
    "with open(\"hello\", \"x\") as f:\n",
    "    f.write(\"spam\")  # Raises an error if file exists"
   ]
  },
  {
   "cell_type": "code",
   "execution_count": 26,
   "metadata": {},
   "outputs": [
    {
     "output_type": "stream",
     "name": "stdout",
     "text": [
      "!\"#$%&'()*+,-./:;<=>?@[\\]^_`{|}~\npunctuation\n"
     ]
    }
   ],
   "source": [
    "# 37. Strip punctuation from a string\n",
    "\n",
    "from string import punctuation\n",
    "print(punctuation)\n",
    "\n",
    "my_string = \"punc(_tu.ation)\"\n",
    "table = str.maketrans({key:None for key in punctuation})\n",
    "print(my_string.translate(table))"
   ]
  },
  {
   "cell_type": "code",
   "execution_count": 27,
   "metadata": {},
   "outputs": [
    {
     "output_type": "error",
     "ename": "ModuleNotFoundError",
     "evalue": "No module named 'requests_cache'",
     "traceback": [
      "\u001b[0;31m---------------------------------------------------------------------------\u001b[0m",
      "\u001b[0;31mModuleNotFoundError\u001b[0m                       Traceback (most recent call last)",
      "\u001b[0;32m<ipython-input-27-4f9490c3c2b4>\u001b[0m in \u001b[0;36m<module>\u001b[0;34m\u001b[0m\n\u001b[1;32m      1\u001b[0m \u001b[0;31m# 36. Caching API calls\u001b[0m\u001b[0;34m\u001b[0m\u001b[0;34m\u001b[0m\u001b[0;34m\u001b[0m\u001b[0m\n\u001b[1;32m      2\u001b[0m \u001b[0;32mimport\u001b[0m \u001b[0mrequests\u001b[0m\u001b[0;34m\u001b[0m\u001b[0;34m\u001b[0m\u001b[0m\n\u001b[0;32m----> 3\u001b[0;31m \u001b[0;32mimport\u001b[0m \u001b[0mrequests_cache\u001b[0m\u001b[0;34m\u001b[0m\u001b[0;34m\u001b[0m\u001b[0m\n\u001b[0m\u001b[1;32m      4\u001b[0m \u001b[0;34m\u001b[0m\u001b[0m\n\u001b[1;32m      5\u001b[0m \u001b[0;31m# Support sqlite, mongodb, redis, memory\u001b[0m\u001b[0;34m\u001b[0m\u001b[0;34m\u001b[0m\u001b[0;34m\u001b[0m\u001b[0m\n",
      "\u001b[0;31mModuleNotFoundError\u001b[0m: No module named 'requests_cache'"
     ]
    }
   ],
   "source": [
    "# 36. Caching API calls\n",
    "import requests\n",
    "import requests_cache\n",
    "\n",
    "# Support sqlite, mongodb, redis, memory\n",
    "\n",
    "requests_cache.install_cache(\"cache.db\", backend=\"sqlite\", expire_after=10)\n",
    "\n",
    "r = requests.get(\"https://pybit.es\")\n",
    "r.from_cache\n",
    "r = requests.get(\"https://pybit.es\")\n",
    "r.from_cache\n",
    "\n",
    "# The second request will use cached version, saving API costs!"
   ]
  },
  {
   "cell_type": "code",
   "execution_count": 28,
   "metadata": {},
   "outputs": [
    {
     "output_type": "execute_result",
     "data": {
      "text/plain": [
       "200"
      ]
     },
     "metadata": {},
     "execution_count": 28
    }
   ],
   "source": [
    "import requests\n",
    "requests.get(\"https://pybit.es\").status_code"
   ]
  },
  {
   "cell_type": "code",
   "execution_count": 30,
   "metadata": {},
   "outputs": [
    {
     "output_type": "execute_result",
     "data": {
      "text/plain": [
       "1000001"
      ]
     },
     "metadata": {},
     "execution_count": 30
    }
   ],
   "source": [
    "# Large numbers\n",
    "number1 = 1_000_000\n",
    "number1 + 1 "
   ]
  },
  {
   "cell_type": "code",
   "execution_count": null,
   "metadata": {},
   "outputs": [],
   "source": [
    "# 41. the IP address module \n"
   ]
  }
 ]
}