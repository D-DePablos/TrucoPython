{
 "metadata": {
  "language_info": {
   "codemirror_mode": {
    "name": "ipython",
    "version": 3
   },
   "file_extension": ".py",
   "mimetype": "text/x-python",
   "name": "python",
   "nbconvert_exporter": "python",
   "pygments_lexer": "ipython3",
   "version": "3.8.6-final"
  },
  "orig_nbformat": 2,
  "kernelspec": {
   "name": "Python 3.8.6 64-bit ('base': conda)",
   "display_name": "Python 3.8.6 64-bit ('base': conda)",
   "metadata": {
    "interpreter": {
     "hash": "bd4e68c0494625809f38bf0fbed8c12ed12a2e009fdc9dcdcfa048d00ef5e24a"
    }
   }
  }
 },
 "nbformat": 4,
 "nbformat_minor": 2,
 "cells": [
  {
   "cell_type": "code",
   "execution_count": 1,
   "metadata": {},
   "outputs": [],
   "source": [
    "class Dog:\n",
    "\n",
    "    num_legs = 4\n",
    "\n",
    "    def __init__(self, name):\n",
    "        self.name = name \n",
    "\n",
    "jack = Dog('Jack')"
   ]
  },
  {
   "cell_type": "code",
   "execution_count": 5,
   "metadata": {},
   "outputs": [
    {
     "output_type": "error",
     "ename": "AttributeError",
     "evalue": "type object 'Dog' has no attribute 'name'",
     "traceback": [
      "\u001b[0;31m---------------------------------------------------------------------------\u001b[0m",
      "\u001b[0;31mAttributeError\u001b[0m                            Traceback (most recent call last)",
      "\u001b[0;32m<ipython-input-5-1ae8c416e368>\u001b[0m in \u001b[0;36m<module>\u001b[0;34m\u001b[0m\n\u001b[1;32m      1\u001b[0m \u001b[0;31m# Dog.name fails as this is an instance variable\u001b[0m\u001b[0;34m\u001b[0m\u001b[0;34m\u001b[0m\u001b[0;34m\u001b[0m\u001b[0m\n\u001b[0;32m----> 2\u001b[0;31m \u001b[0mDog\u001b[0m\u001b[0;34m.\u001b[0m\u001b[0mname\u001b[0m\u001b[0;34m\u001b[0m\u001b[0;34m\u001b[0m\u001b[0m\n\u001b[0m",
      "\u001b[0;31mAttributeError\u001b[0m: type object 'Dog' has no attribute 'name'"
     ]
    }
   ],
   "source": [
    "# Dog.name fails as this is an instance variable\n",
    "Dog.name"
   ]
  },
  {
   "cell_type": "code",
   "execution_count": 6,
   "metadata": {},
   "outputs": [
    {
     "output_type": "stream",
     "name": "stdout",
     "text": [
      "6 4\n"
     ]
    }
   ],
   "source": [
    "jack.num_legs = 6  # Into the microwave Jack goes\n",
    "\n",
    "print(jack.num_legs, jack.__class__.num_legs)  # Our of sync variables"
   ]
  },
  {
   "source": [
    "## An example that is more realistic"
   ],
   "cell_type": "markdown",
   "metadata": {}
  },
  {
   "cell_type": "code",
   "execution_count": 10,
   "metadata": {},
   "outputs": [
    {
     "output_type": "stream",
     "name": "stdout",
     "text": [
      "1 1\n3 1\n5 1\n"
     ]
    }
   ],
   "source": [
    "class CountedObject:\n",
    "\n",
    "    num_instances = 0\n",
    "    bug_instances = 0\n",
    "\n",
    "    def __init__(self):\n",
    "        self.__class__.num_instances += 1  # It does not shadow\n",
    "        self.bug_instances += 1\n",
    "\n",
    "print(CountedObject().num_instances, CountedObject().bug_instances)\n",
    "print(CountedObject().num_instances, CountedObject().bug_instances)\n",
    "print(CountedObject().num_instances, CountedObject().bug_instances)\n"
   ]
  }
 ]
}