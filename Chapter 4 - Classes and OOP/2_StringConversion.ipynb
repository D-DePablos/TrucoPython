{
 "metadata": {
  "language_info": {
   "codemirror_mode": {
    "name": "ipython",
    "version": 3
   },
   "file_extension": ".py",
   "mimetype": "text/x-python",
   "name": "python",
   "nbconvert_exporter": "python",
   "pygments_lexer": "ipython3",
   "version": "3.8.6-final"
  },
  "orig_nbformat": 2,
  "kernelspec": {
   "name": "Python 3.8.6 64-bit ('base': conda)",
   "display_name": "Python 3.8.6 64-bit ('base': conda)",
   "metadata": {
    "interpreter": {
     "hash": "bd4e68c0494625809f38bf0fbed8c12ed12a2e009fdc9dcdcfa048d00ef5e24a"
    }
   }
  }
 },
 "nbformat": 4,
 "nbformat_minor": 2,
 "cells": [
  {
   "cell_type": "markdown",
   "metadata": {},
   "source": [
    "# Every Class needs a __repr__"
   ]
  },
  {
   "cell_type": "code",
   "execution_count": 2,
   "metadata": {
    "tags": []
   },
   "outputs": [
    {
     "output_type": "stream",
     "name": "stdout",
     "text": [
      "a blue car\n"
     ]
    },
    {
     "output_type": "execute_result",
     "data": {
      "text/plain": [
       "'Car(blue, 500)'"
      ]
     },
     "metadata": {},
     "execution_count": 2
    }
   ],
   "source": [
    "class Car:\n",
    "    def __init__(self, color, mileage):\n",
    "        self.color = color \n",
    "        self.mileage = mileage \n",
    "\n",
    "    def __str__(self):\n",
    "        return f\"a {self.color} car\"\n",
    "\n",
    "    def __repr__(self):\n",
    "        return f\"Car({self.color}, {self.mileage})\"\n",
    "\n",
    "my_car = Car(\"blue\", 500)\n",
    "\n",
    "print(f\"{my_car}\")\n",
    "repr(my_car)\n"
   ]
  }
 ]
}